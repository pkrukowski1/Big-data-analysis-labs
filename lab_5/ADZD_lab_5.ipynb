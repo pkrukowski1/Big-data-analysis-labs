{
  "cells": [
    {
      "cell_type": "markdown",
      "metadata": {
        "id": "t32XfqcWKbAO"
      },
      "source": [
        "# **ADZD - lab 5**\n"
      ]
    },
    {
      "cell_type": "markdown",
      "metadata": {
        "id": "oaYfMXbPKpEB"
      },
      "source": [
        "## Setup"
      ]
    },
    {
      "cell_type": "code",
      "execution_count": 2,
      "metadata": {
        "colab": {
          "base_uri": "https://localhost:8080/"
        },
        "id": "GvFFMLqpKeA4",
        "outputId": "0f385482-a2be-4651-f2a0-0db34b3605bf"
      },
      "outputs": [
        {
          "name": "stdout",
          "output_type": "stream",
          "text": [
            "\u001b[K     |████████████████████████████████| 281.4 MB 40 kB/s \n",
            "\u001b[K     |████████████████████████████████| 199 kB 57.1 MB/s \n",
            "\u001b[K     |████████████████████████████████| 154 kB 14.8 MB/s \n",
            "\u001b[?25h  Building wheel for pyspark (setup.py) ... \u001b[?25l\u001b[?25hdone\n"
          ]
        }
      ],
      "source": [
        "!apt-get install openjdk-8-jdk-headless -qq > /dev/null\n",
        "!wget -q https://archive.apache.org/dist/spark/spark-3.1.2/spark-3.1.2-bin-hadoop3.2.tgz\n",
        "!tar -xf spark-3.1.2-bin-hadoop3.2.tgz\n",
        "!pip -q install findspark pyspark graphframes\n",
        "\n",
        "\n",
        "import os\n",
        "os.environ[\"JAVA_HOME\"] = \"/usr/lib/jvm/java-8-openjdk-amd64\"\n",
        "os.environ[\"SPARK_HOME\"] = \"/content/spark-3.1.2-bin-hadoop3.2\"\n",
        "os.environ[\"HADOOP_HOME\"] = os.environ[\"SPARK_HOME\"]\n",
        "\n",
        "os.environ[\"PYSPARK_DRIVER_PYTHON\"] = \"jupyter\"\n",
        "os.environ[\"PYSPARK_DRIVER_PYTHON_OPTS\"] = \"notebook\"\n",
        "os.environ[\"PYSPARK_SUBMIT_ARGS\"] = \"--packages graphframes:graphframes:0.8.2-spark3.1-s_2.12 pyspark-shell\"\n",
        "\n",
        "\n",
        "import findspark\n",
        "findspark.init()\n",
        "\n",
        "from pyspark.sql import SparkSession\n",
        "from pyspark.sql import SQLContext\n",
        "import graphframes as gf\n",
        "\n",
        "spark = SparkSession.builder.master(\"local[*]\").getOrCreate()\n",
        "sc = spark.sparkContext\n",
        "sqlContext = SQLContext(sc)\n",
        "\n",
        "\n",
        "# pregel\n",
        "!wget -q https://github.com/graphframes/graphframes/archive/refs/tags/v0.8.2.zip\n",
        "!unzip -q v0.8.2.zip\n",
        "!cp \"/content/graphframes-0.8.2/python/graphframes/lib/pregel.py\" \"pregel.py\"\n",
        "\n",
        "\n",
        "!mkdir -p tmp_checkpointdir\n",
        "sc.setCheckpointDir(\"tmp_checkpointdir\")  # chyba do spójnych składowych potrzebował"
      ]
    },
    {
      "cell_type": "code",
      "execution_count": 3,
      "metadata": {
        "id": "4H95zKJNK2xk"
      },
      "outputs": [],
      "source": [
        "import pyspark.sql.functions as F\n",
        "from pyspark.sql.functions import col\n",
        "import matplotlib.pyplot as plt\n",
        "import numpy as np\n",
        "import pandas as pd\n",
        "from pregel import Pregel  # wczytujemy z pliku, to tyle, wywołujemy Pregel(graph)"
      ]
    },
    {
      "cell_type": "markdown",
      "metadata": {
        "id": "VLBPvfCQLtNd"
      },
      "source": [
        "## **Zadanie nr 1**\n",
        "\n",
        "Wczytać graf Facebooka, krawędzie z pliku musae_facebook_edges.csv, atrybuty page_name oraz page_type z pliku musae_facebook_target.csv.  Policzyć liczbę krawędzi i wierzchołków. "
      ]
    },
    {
      "cell_type": "code",
      "execution_count": 4,
      "metadata": {
        "colab": {
          "base_uri": "https://localhost:8080/"
        },
        "id": "6oqYqHLZLyFj",
        "outputId": "a27f2e26-8151-449a-b01a-99c48f9e3af7"
      },
      "outputs": [
        {
          "name": "stdout",
          "output_type": "stream",
          "text": [
            "--2022-12-28 16:22:11--  https://snap.stanford.edu/data/facebook_large.zip\n",
            "Resolving snap.stanford.edu (snap.stanford.edu)... 171.64.75.80\n",
            "Connecting to snap.stanford.edu (snap.stanford.edu)|171.64.75.80|:443... connected.\n",
            "HTTP request sent, awaiting response... 200 OK\n",
            "Length: 1737479 (1.7M) [application/zip]\n",
            "Saving to: ‘facebook_large.zip’\n",
            "\n",
            "facebook_large.zip  100%[===================>]   1.66M  1.12MB/s    in 1.5s    \n",
            "\n",
            "2022-12-28 16:22:13 (1.12 MB/s) - ‘facebook_large.zip’ saved [1737479/1737479]\n",
            "\n"
          ]
        }
      ],
      "source": [
        "!wget https://snap.stanford.edu/data/facebook_large.zip"
      ]
    },
    {
      "cell_type": "code",
      "execution_count": 5,
      "metadata": {
        "colab": {
          "base_uri": "https://localhost:8080/"
        },
        "id": "nGP3JV7EMc_x",
        "outputId": "4b6b76fe-42ab-4945-9fc6-413e50ae287f"
      },
      "outputs": [
        {
          "name": "stdout",
          "output_type": "stream",
          "text": [
            "Archive:  facebook_large.zip\n",
            "   creating: facebook_large/\n",
            "  inflating: facebook_large/musae_facebook_edges.csv  \n",
            "  inflating: facebook_large/musae_facebook_features.json  \n",
            "  inflating: facebook_large/musae_facebook_target.csv  \n",
            "  inflating: facebook_large/citing.txt  \n",
            "  inflating: facebook_large/README.txt  \n"
          ]
        }
      ],
      "source": [
        "!unzip facebook_large.zip"
      ]
    },
    {
      "cell_type": "markdown",
      "metadata": {
        "id": "hzPCtobKNCtf"
      },
      "source": [
        "Wczytujemy dane."
      ]
    },
    {
      "cell_type": "code",
      "execution_count": 6,
      "metadata": {
        "id": "C9OwFXnqNBZx"
      },
      "outputs": [],
      "source": [
        "edges = pd.read_csv('./facebook_large/musae_facebook_edges.csv')"
      ]
    },
    {
      "cell_type": "code",
      "execution_count": 7,
      "metadata": {
        "id": "WT3bUDl-NWBq"
      },
      "outputs": [],
      "source": [
        "targets = pd.read_csv('./facebook_large/musae_facebook_target.csv')"
      ]
    },
    {
      "cell_type": "code",
      "execution_count": 8,
      "metadata": {
        "colab": {
          "base_uri": "https://localhost:8080/",
          "height": 206
        },
        "id": "NCAkH5uVNnEI",
        "outputId": "a31eb39f-33d4-4af2-c362-3b947c0b7023"
      },
      "outputs": [
        {
          "data": {
            "text/html": [
              "\n",
              "  <div id=\"df-7a214333-7cf7-4ebb-baf6-c87bc0d127f7\">\n",
              "    <div class=\"colab-df-container\">\n",
              "      <div>\n",
              "<style scoped>\n",
              "    .dataframe tbody tr th:only-of-type {\n",
              "        vertical-align: middle;\n",
              "    }\n",
              "\n",
              "    .dataframe tbody tr th {\n",
              "        vertical-align: top;\n",
              "    }\n",
              "\n",
              "    .dataframe thead th {\n",
              "        text-align: right;\n",
              "    }\n",
              "</style>\n",
              "<table border=\"1\" class=\"dataframe\">\n",
              "  <thead>\n",
              "    <tr style=\"text-align: right;\">\n",
              "      <th></th>\n",
              "      <th>id</th>\n",
              "      <th>facebook_id</th>\n",
              "      <th>page_name</th>\n",
              "      <th>page_type</th>\n",
              "    </tr>\n",
              "  </thead>\n",
              "  <tbody>\n",
              "    <tr>\n",
              "      <th>0</th>\n",
              "      <td>0</td>\n",
              "      <td>145647315578475</td>\n",
              "      <td>The Voice of China 中国好声音</td>\n",
              "      <td>tvshow</td>\n",
              "    </tr>\n",
              "    <tr>\n",
              "      <th>1</th>\n",
              "      <td>1</td>\n",
              "      <td>191483281412</td>\n",
              "      <td>U.S. Consulate General Mumbai</td>\n",
              "      <td>government</td>\n",
              "    </tr>\n",
              "    <tr>\n",
              "      <th>2</th>\n",
              "      <td>2</td>\n",
              "      <td>144761358898518</td>\n",
              "      <td>ESET</td>\n",
              "      <td>company</td>\n",
              "    </tr>\n",
              "    <tr>\n",
              "      <th>3</th>\n",
              "      <td>3</td>\n",
              "      <td>568700043198473</td>\n",
              "      <td>Consulate General of Switzerland in Montreal</td>\n",
              "      <td>government</td>\n",
              "    </tr>\n",
              "    <tr>\n",
              "      <th>4</th>\n",
              "      <td>4</td>\n",
              "      <td>1408935539376139</td>\n",
              "      <td>Mark Bailey MP - Labor for Miller</td>\n",
              "      <td>politician</td>\n",
              "    </tr>\n",
              "  </tbody>\n",
              "</table>\n",
              "</div>\n",
              "      <button class=\"colab-df-convert\" onclick=\"convertToInteractive('df-7a214333-7cf7-4ebb-baf6-c87bc0d127f7')\"\n",
              "              title=\"Convert this dataframe to an interactive table.\"\n",
              "              style=\"display:none;\">\n",
              "        \n",
              "  <svg xmlns=\"http://www.w3.org/2000/svg\" height=\"24px\"viewBox=\"0 0 24 24\"\n",
              "       width=\"24px\">\n",
              "    <path d=\"M0 0h24v24H0V0z\" fill=\"none\"/>\n",
              "    <path d=\"M18.56 5.44l.94 2.06.94-2.06 2.06-.94-2.06-.94-.94-2.06-.94 2.06-2.06.94zm-11 1L8.5 8.5l.94-2.06 2.06-.94-2.06-.94L8.5 2.5l-.94 2.06-2.06.94zm10 10l.94 2.06.94-2.06 2.06-.94-2.06-.94-.94-2.06-.94 2.06-2.06.94z\"/><path d=\"M17.41 7.96l-1.37-1.37c-.4-.4-.92-.59-1.43-.59-.52 0-1.04.2-1.43.59L10.3 9.45l-7.72 7.72c-.78.78-.78 2.05 0 2.83L4 21.41c.39.39.9.59 1.41.59.51 0 1.02-.2 1.41-.59l7.78-7.78 2.81-2.81c.8-.78.8-2.07 0-2.86zM5.41 20L4 18.59l7.72-7.72 1.47 1.35L5.41 20z\"/>\n",
              "  </svg>\n",
              "      </button>\n",
              "      \n",
              "  <style>\n",
              "    .colab-df-container {\n",
              "      display:flex;\n",
              "      flex-wrap:wrap;\n",
              "      gap: 12px;\n",
              "    }\n",
              "\n",
              "    .colab-df-convert {\n",
              "      background-color: #E8F0FE;\n",
              "      border: none;\n",
              "      border-radius: 50%;\n",
              "      cursor: pointer;\n",
              "      display: none;\n",
              "      fill: #1967D2;\n",
              "      height: 32px;\n",
              "      padding: 0 0 0 0;\n",
              "      width: 32px;\n",
              "    }\n",
              "\n",
              "    .colab-df-convert:hover {\n",
              "      background-color: #E2EBFA;\n",
              "      box-shadow: 0px 1px 2px rgba(60, 64, 67, 0.3), 0px 1px 3px 1px rgba(60, 64, 67, 0.15);\n",
              "      fill: #174EA6;\n",
              "    }\n",
              "\n",
              "    [theme=dark] .colab-df-convert {\n",
              "      background-color: #3B4455;\n",
              "      fill: #D2E3FC;\n",
              "    }\n",
              "\n",
              "    [theme=dark] .colab-df-convert:hover {\n",
              "      background-color: #434B5C;\n",
              "      box-shadow: 0px 1px 3px 1px rgba(0, 0, 0, 0.15);\n",
              "      filter: drop-shadow(0px 1px 2px rgba(0, 0, 0, 0.3));\n",
              "      fill: #FFFFFF;\n",
              "    }\n",
              "  </style>\n",
              "\n",
              "      <script>\n",
              "        const buttonEl =\n",
              "          document.querySelector('#df-7a214333-7cf7-4ebb-baf6-c87bc0d127f7 button.colab-df-convert');\n",
              "        buttonEl.style.display =\n",
              "          google.colab.kernel.accessAllowed ? 'block' : 'none';\n",
              "\n",
              "        async function convertToInteractive(key) {\n",
              "          const element = document.querySelector('#df-7a214333-7cf7-4ebb-baf6-c87bc0d127f7');\n",
              "          const dataTable =\n",
              "            await google.colab.kernel.invokeFunction('convertToInteractive',\n",
              "                                                     [key], {});\n",
              "          if (!dataTable) return;\n",
              "\n",
              "          const docLinkHtml = 'Like what you see? Visit the ' +\n",
              "            '<a target=\"_blank\" href=https://colab.research.google.com/notebooks/data_table.ipynb>data table notebook</a>'\n",
              "            + ' to learn more about interactive tables.';\n",
              "          element.innerHTML = '';\n",
              "          dataTable['output_type'] = 'display_data';\n",
              "          await google.colab.output.renderOutput(dataTable, element);\n",
              "          const docLink = document.createElement('div');\n",
              "          docLink.innerHTML = docLinkHtml;\n",
              "          element.appendChild(docLink);\n",
              "        }\n",
              "      </script>\n",
              "    </div>\n",
              "  </div>\n",
              "  "
            ],
            "text/plain": [
              "   id       facebook_id                                     page_name  \\\n",
              "0   0   145647315578475                      The Voice of China 中国好声音   \n",
              "1   1      191483281412                 U.S. Consulate General Mumbai   \n",
              "2   2   144761358898518                                          ESET   \n",
              "3   3   568700043198473  Consulate General of Switzerland in Montreal   \n",
              "4   4  1408935539376139             Mark Bailey MP - Labor for Miller   \n",
              "\n",
              "    page_type  \n",
              "0      tvshow  \n",
              "1  government  \n",
              "2     company  \n",
              "3  government  \n",
              "4  politician  "
            ]
          },
          "execution_count": 8,
          "metadata": {},
          "output_type": "execute_result"
        }
      ],
      "source": [
        "targets.head()"
      ]
    },
    {
      "cell_type": "code",
      "execution_count": 9,
      "metadata": {
        "id": "JIoiwZlfODAX"
      },
      "outputs": [],
      "source": [
        "del targets['facebook_id']"
      ]
    },
    {
      "cell_type": "code",
      "execution_count": 10,
      "metadata": {
        "colab": {
          "base_uri": "https://localhost:8080/",
          "height": 206
        },
        "id": "kbFRAjGVN8dy",
        "outputId": "157853e3-c3cc-41b3-9c0e-2fb61f92f014"
      },
      "outputs": [
        {
          "data": {
            "text/html": [
              "\n",
              "  <div id=\"df-501e7c60-361f-4629-9e76-989e731c69f5\">\n",
              "    <div class=\"colab-df-container\">\n",
              "      <div>\n",
              "<style scoped>\n",
              "    .dataframe tbody tr th:only-of-type {\n",
              "        vertical-align: middle;\n",
              "    }\n",
              "\n",
              "    .dataframe tbody tr th {\n",
              "        vertical-align: top;\n",
              "    }\n",
              "\n",
              "    .dataframe thead th {\n",
              "        text-align: right;\n",
              "    }\n",
              "</style>\n",
              "<table border=\"1\" class=\"dataframe\">\n",
              "  <thead>\n",
              "    <tr style=\"text-align: right;\">\n",
              "      <th></th>\n",
              "      <th>id_1</th>\n",
              "      <th>id_2</th>\n",
              "    </tr>\n",
              "  </thead>\n",
              "  <tbody>\n",
              "    <tr>\n",
              "      <th>0</th>\n",
              "      <td>0</td>\n",
              "      <td>18427</td>\n",
              "    </tr>\n",
              "    <tr>\n",
              "      <th>1</th>\n",
              "      <td>1</td>\n",
              "      <td>21708</td>\n",
              "    </tr>\n",
              "    <tr>\n",
              "      <th>2</th>\n",
              "      <td>1</td>\n",
              "      <td>22208</td>\n",
              "    </tr>\n",
              "    <tr>\n",
              "      <th>3</th>\n",
              "      <td>1</td>\n",
              "      <td>22171</td>\n",
              "    </tr>\n",
              "    <tr>\n",
              "      <th>4</th>\n",
              "      <td>1</td>\n",
              "      <td>6829</td>\n",
              "    </tr>\n",
              "  </tbody>\n",
              "</table>\n",
              "</div>\n",
              "      <button class=\"colab-df-convert\" onclick=\"convertToInteractive('df-501e7c60-361f-4629-9e76-989e731c69f5')\"\n",
              "              title=\"Convert this dataframe to an interactive table.\"\n",
              "              style=\"display:none;\">\n",
              "        \n",
              "  <svg xmlns=\"http://www.w3.org/2000/svg\" height=\"24px\"viewBox=\"0 0 24 24\"\n",
              "       width=\"24px\">\n",
              "    <path d=\"M0 0h24v24H0V0z\" fill=\"none\"/>\n",
              "    <path d=\"M18.56 5.44l.94 2.06.94-2.06 2.06-.94-2.06-.94-.94-2.06-.94 2.06-2.06.94zm-11 1L8.5 8.5l.94-2.06 2.06-.94-2.06-.94L8.5 2.5l-.94 2.06-2.06.94zm10 10l.94 2.06.94-2.06 2.06-.94-2.06-.94-.94-2.06-.94 2.06-2.06.94z\"/><path d=\"M17.41 7.96l-1.37-1.37c-.4-.4-.92-.59-1.43-.59-.52 0-1.04.2-1.43.59L10.3 9.45l-7.72 7.72c-.78.78-.78 2.05 0 2.83L4 21.41c.39.39.9.59 1.41.59.51 0 1.02-.2 1.41-.59l7.78-7.78 2.81-2.81c.8-.78.8-2.07 0-2.86zM5.41 20L4 18.59l7.72-7.72 1.47 1.35L5.41 20z\"/>\n",
              "  </svg>\n",
              "      </button>\n",
              "      \n",
              "  <style>\n",
              "    .colab-df-container {\n",
              "      display:flex;\n",
              "      flex-wrap:wrap;\n",
              "      gap: 12px;\n",
              "    }\n",
              "\n",
              "    .colab-df-convert {\n",
              "      background-color: #E8F0FE;\n",
              "      border: none;\n",
              "      border-radius: 50%;\n",
              "      cursor: pointer;\n",
              "      display: none;\n",
              "      fill: #1967D2;\n",
              "      height: 32px;\n",
              "      padding: 0 0 0 0;\n",
              "      width: 32px;\n",
              "    }\n",
              "\n",
              "    .colab-df-convert:hover {\n",
              "      background-color: #E2EBFA;\n",
              "      box-shadow: 0px 1px 2px rgba(60, 64, 67, 0.3), 0px 1px 3px 1px rgba(60, 64, 67, 0.15);\n",
              "      fill: #174EA6;\n",
              "    }\n",
              "\n",
              "    [theme=dark] .colab-df-convert {\n",
              "      background-color: #3B4455;\n",
              "      fill: #D2E3FC;\n",
              "    }\n",
              "\n",
              "    [theme=dark] .colab-df-convert:hover {\n",
              "      background-color: #434B5C;\n",
              "      box-shadow: 0px 1px 3px 1px rgba(0, 0, 0, 0.15);\n",
              "      filter: drop-shadow(0px 1px 2px rgba(0, 0, 0, 0.3));\n",
              "      fill: #FFFFFF;\n",
              "    }\n",
              "  </style>\n",
              "\n",
              "      <script>\n",
              "        const buttonEl =\n",
              "          document.querySelector('#df-501e7c60-361f-4629-9e76-989e731c69f5 button.colab-df-convert');\n",
              "        buttonEl.style.display =\n",
              "          google.colab.kernel.accessAllowed ? 'block' : 'none';\n",
              "\n",
              "        async function convertToInteractive(key) {\n",
              "          const element = document.querySelector('#df-501e7c60-361f-4629-9e76-989e731c69f5');\n",
              "          const dataTable =\n",
              "            await google.colab.kernel.invokeFunction('convertToInteractive',\n",
              "                                                     [key], {});\n",
              "          if (!dataTable) return;\n",
              "\n",
              "          const docLinkHtml = 'Like what you see? Visit the ' +\n",
              "            '<a target=\"_blank\" href=https://colab.research.google.com/notebooks/data_table.ipynb>data table notebook</a>'\n",
              "            + ' to learn more about interactive tables.';\n",
              "          element.innerHTML = '';\n",
              "          dataTable['output_type'] = 'display_data';\n",
              "          await google.colab.output.renderOutput(dataTable, element);\n",
              "          const docLink = document.createElement('div');\n",
              "          docLink.innerHTML = docLinkHtml;\n",
              "          element.appendChild(docLink);\n",
              "        }\n",
              "      </script>\n",
              "    </div>\n",
              "  </div>\n",
              "  "
            ],
            "text/plain": [
              "   id_1   id_2\n",
              "0     0  18427\n",
              "1     1  21708\n",
              "2     1  22208\n",
              "3     1  22171\n",
              "4     1   6829"
            ]
          },
          "execution_count": 10,
          "metadata": {},
          "output_type": "execute_result"
        }
      ],
      "source": [
        "edges.head()"
      ]
    },
    {
      "cell_type": "markdown",
      "metadata": {
        "id": "35rd4qGZOM9W"
      },
      "source": [
        "Policzymy teraz liczbę krawędzi oraz wierzchołków."
      ]
    },
    {
      "cell_type": "code",
      "execution_count": 11,
      "metadata": {
        "colab": {
          "base_uri": "https://localhost:8080/"
        },
        "id": "wqGyIGZJN9gY",
        "outputId": "9d635034-028d-4f36-cb27-1fedfb2efe5d"
      },
      "outputs": [
        {
          "data": {
            "text/plain": [
              "171002"
            ]
          },
          "execution_count": 11,
          "metadata": {},
          "output_type": "execute_result"
        }
      ],
      "source": [
        "no_edges = edges.shape[0]\n",
        "no_edges"
      ]
    },
    {
      "cell_type": "code",
      "execution_count": 12,
      "metadata": {
        "colab": {
          "base_uri": "https://localhost:8080/"
        },
        "id": "6R7FRCZJPqyv",
        "outputId": "cc8cc108-b8c7-420f-f173-71e1baae4519"
      },
      "outputs": [
        {
          "data": {
            "text/plain": [
              "22470"
            ]
          },
          "execution_count": 12,
          "metadata": {},
          "output_type": "execute_result"
        }
      ],
      "source": [
        "no_vertices = targets.shape[0]\n",
        "no_vertices"
      ]
    },
    {
      "cell_type": "markdown",
      "metadata": {
        "id": "Z6RMUjYMQrbG"
      },
      "source": [
        "## **Zadanie nr 2**\n",
        "\n",
        "Sprawdzić czy graf jest spójny. Czy dwa podgrafy utworzone dla typów strony governmental organizations oraz television shows też są spójne? "
      ]
    },
    {
      "cell_type": "code",
      "execution_count": 13,
      "metadata": {
        "id": "mJn3Oo9OVJ5b"
      },
      "outputs": [],
      "source": [
        "edges.rename(columns = {'id_1':'src', 'id_2':'dst'}, inplace = True)"
      ]
    },
    {
      "cell_type": "code",
      "execution_count": 14,
      "metadata": {
        "id": "6H9DLBB6QCk_"
      },
      "outputs": [],
      "source": [
        "v = sqlContext.createDataFrame(targets, [\"id\", \"page_name\", \"page_type\"])\n",
        "e = sqlContext.createDataFrame(edges, [\"src\", \"dst\"])\n",
        "graph = gf.GraphFrame(v, e)"
      ]
    },
    {
      "cell_type": "code",
      "execution_count": 15,
      "metadata": {
        "id": "sOND8ndKV77i"
      },
      "outputs": [],
      "source": [
        "def check_connectedness(graph: gf.GraphFrame) -> bool:\n",
        "\n",
        "  connected_components = graph.connectedComponents()\n",
        "\n",
        "  return connected_components.count() == graph.vertices.count()"
      ]
    },
    {
      "cell_type": "code",
      "execution_count": 16,
      "metadata": {
        "colab": {
          "base_uri": "https://localhost:8080/"
        },
        "id": "SBqMVPOWWaDL",
        "outputId": "be97864b-ac09-4d8f-b02e-f9a174d72c94"
      },
      "outputs": [
        {
          "data": {
            "text/plain": [
              "True"
            ]
          },
          "execution_count": 16,
          "metadata": {},
          "output_type": "execute_result"
        }
      ],
      "source": [
        "check_connectedness(graph)"
      ]
    },
    {
      "cell_type": "markdown",
      "metadata": {
        "id": "P6rx8SQCXkRc"
      },
      "source": [
        "Graf jest spójny. Sprawdźmy teraz spójność podgrafów z zadania."
      ]
    },
    {
      "cell_type": "code",
      "execution_count": 17,
      "metadata": {
        "id": "-SFfvC3GXq0r"
      },
      "outputs": [],
      "source": [
        "gov_org_subgraph = graph.filterVertices(graph.vertices.page_type == 'government')\n",
        "tv_show_subgraph = graph.filterVertices(graph.vertices.page_type == 'tvshow')"
      ]
    },
    {
      "cell_type": "code",
      "execution_count": 18,
      "metadata": {
        "colab": {
          "base_uri": "https://localhost:8080/"
        },
        "id": "DaoiJ1XJYNyl",
        "outputId": "a466055f-99ec-4685-c160-341f7097c92e"
      },
      "outputs": [
        {
          "name": "stdout",
          "output_type": "stream",
          "text": [
            "True\n",
            "True\n"
          ]
        }
      ],
      "source": [
        "print(check_connectedness(gov_org_subgraph))\n",
        "print(check_connectedness(tv_show_subgraph))"
      ]
    },
    {
      "cell_type": "markdown",
      "metadata": {
        "id": "MSb_Bmx5aAyq"
      },
      "source": [
        "Podgrafy są spójne."
      ]
    },
    {
      "cell_type": "markdown",
      "metadata": {
        "id": "QtyBuH4daGty"
      },
      "source": [
        "## **Zadanie nr 3**\n",
        "\n",
        "Spośród 1000 stron o najwyższym PageRank znaleźć 50 takich (wypisać page_name i page_type), które mają najmniej połączeń oraz 50 o największej liczbie połączeń. Który typ strony był dominujący w każdej z tych kategorii? Narysować wykres zależności PageRank od liczby krawędzi dla wierzchołków (scatter plot)."
      ]
    },
    {
      "cell_type": "code",
      "execution_count": 19,
      "metadata": {
        "id": "DYcnU8AqaChN"
      },
      "outputs": [],
      "source": [
        "graph_with_pagerank = graph.pageRank(tol=1e-4)"
      ]
    },
    {
      "cell_type": "code",
      "execution_count": 20,
      "metadata": {
        "colab": {
          "base_uri": "https://localhost:8080/"
        },
        "id": "CkFZf-ABeceP",
        "outputId": "c13a93e4-1a2c-4e5c-c290-629bef65130e"
      },
      "outputs": [
        {
          "name": "stdout",
          "output_type": "stream",
          "text": [
            "+-----+--------------------+----------+------------------+\n",
            "|   id|           page_name| page_type|          pagerank|\n",
            "+-----+--------------------+----------+------------------+\n",
            "|21729|The Obama White H...|government|118.94062246225538|\n",
            "|22208|U.S. Department o...|government| 67.13872903779195|\n",
            "|21781|           Microsoft|   company|56.441613845716724|\n",
            "|22440|City of Los Altos...|government| 55.24474131605187|\n",
            "|22057|The Connecticut N...|government|48.048565486408464|\n",
            "|22438|  Federica Mogherini|politician| 47.83973751107555|\n",
            "|22329|               NHTSA|government| 47.03110185658694|\n",
            "|20415|    Joachim Herrmann|politician| 42.78414021359476|\n",
            "|22403|        Dr. Hedy Fry|politician| 36.55870819775559|\n",
            "|21955|             Digicel|   company|36.209244761763706|\n",
            "+-----+--------------------+----------+------------------+\n",
            "only showing top 10 rows\n",
            "\n"
          ]
        }
      ],
      "source": [
        "graph_with_pagerank_vertices = graph_with_pagerank.vertices\n",
        "graph_with_pagerank_vertices_sorted = graph_with_pagerank_vertices.orderBy('pagerank', ascending=False)\n",
        "graph_with_pagerank_vertices_sorted.show(10)"
      ]
    },
    {
      "cell_type": "code",
      "execution_count": 21,
      "metadata": {
        "colab": {
          "base_uri": "https://localhost:8080/"
        },
        "id": "1pxWNtdahKVW",
        "outputId": "8a622c99-7032-4004-f307-12934674a9a0"
      },
      "outputs": [
        {
          "name": "stdout",
          "output_type": "stream",
          "text": [
            "+-----+--------------------+----------+------------------+\n",
            "|   id|           page_name| page_type|          pagerank|\n",
            "+-----+--------------------+----------+------------------+\n",
            "|21729|The Obama White H...|government|118.94062246225538|\n",
            "|22208|U.S. Department o...|government| 67.13872903779195|\n",
            "|21781|           Microsoft|   company|56.441613845716724|\n",
            "|22440|City of Los Altos...|government| 55.24474131605187|\n",
            "|22057|The Connecticut N...|government|48.048565486408464|\n",
            "|22438|  Federica Mogherini|politician| 47.83973751107555|\n",
            "|22329|               NHTSA|government| 47.03110185658694|\n",
            "|20415|    Joachim Herrmann|politician| 42.78414021359476|\n",
            "|22403|        Dr. Hedy Fry|politician| 36.55870819775559|\n",
            "|21955|             Digicel|   company|36.209244761763706|\n",
            "+-----+--------------------+----------+------------------+\n",
            "only showing top 10 rows\n",
            "\n"
          ]
        }
      ],
      "source": [
        "graph_with_pagerank_vertices_sorted.createOrReplaceTempView('pagerank')\n",
        "\n",
        "graph_with_pagerank_vertices_sorted_top_1000 = spark.sql(\"SELECT * FROM pagerank LIMIT 1000\")\n",
        "graph_with_pagerank_vertices_sorted_top_1000.show(10)"
      ]
    },
    {
      "cell_type": "code",
      "execution_count": 22,
      "metadata": {
        "id": "LOk5VK5di8tk"
      },
      "outputs": [],
      "source": [
        "graph_with_pagerank_vertices_sorted_top_1000.createOrReplaceTempView('pagerank_top_1000')"
      ]
    },
    {
      "cell_type": "code",
      "execution_count": 23,
      "metadata": {
        "id": "nK8Y6Tsxih8q"
      },
      "outputs": [],
      "source": [
        "graph_with_pagerank_vertices_sorted_top_1000_best_50 = spark.sql(\"SELECT * FROM pagerank_top_1000 LIMIT 50\")\n",
        "graph_with_pagerank_vertices_sorted_top_1000_worst_50 = spark.sql(\"\"\"SELECT \n",
        "                                                                        * \n",
        "                                                                      FROM (SELECT * FROM pagerank_top_1000 ORDER BY pagerank ASC) \n",
        "                                                                     LIMIT 50\"\"\")"
      ]
    },
    {
      "cell_type": "code",
      "execution_count": 24,
      "metadata": {
        "colab": {
          "base_uri": "https://localhost:8080/"
        },
        "id": "pob013wxjwsE",
        "outputId": "16b71d7d-973b-4e17-fd49-01c528d335f6"
      },
      "outputs": [
        {
          "name": "stdout",
          "output_type": "stream",
          "text": [
            "+-----+--------------------+----------+------------------+\n",
            "|   id|           page_name| page_type|          pagerank|\n",
            "+-----+--------------------+----------+------------------+\n",
            "|21729|The Obama White H...|government|118.94062246225538|\n",
            "|22208|U.S. Department o...|government| 67.13872903779195|\n",
            "|21781|           Microsoft|   company|56.441613845716724|\n",
            "|22440|City of Los Altos...|government| 55.24474131605187|\n",
            "|22057|The Connecticut N...|government|48.048565486408464|\n",
            "|22438|  Federica Mogherini|politician| 47.83973751107555|\n",
            "|22329|               NHTSA|government| 47.03110185658694|\n",
            "|20415|    Joachim Herrmann|politician| 42.78414021359476|\n",
            "|22403|        Dr. Hedy Fry|politician| 36.55870819775559|\n",
            "|21955|             Digicel|   company|36.209244761763706|\n",
            "|19743|     The White House|government| 34.63886769998937|\n",
            "|22230|    Israel in the UK|government| 31.76560959471935|\n",
            "|22349|21st Theater Sust...|government| 30.53227762577989|\n",
            "|21491|     Katarina Barley|politician|29.641706896454124|\n",
            "| 8302|          Royal Navy|government|29.088654164715884|\n",
            "|20510|Bruce Notley-Smit...|politician|28.650085613944462|\n",
            "|21325|    Frans Timmermans|politician| 28.55974980626244|\n",
            "|22375|Baltimore Distric...|government|28.343407148980514|\n",
            "|21750|             Chobani|   company|27.470849683926687|\n",
            "|20888| Jean-Claude Juncker|politician|26.420196688057533|\n",
            "|21662|              Disney|   company| 25.98941972709548|\n",
            "|19347|FEMA Federal Emer...|government|25.577927493564232|\n",
            "|22171| U.S. Embassy Ottawa|government| 25.05820459428762|\n",
            "|21708|U.S. Department o...|government| 24.59773761786973|\n",
            "|16809|Sir Peter Bottoml...|politician| 23.41755716381678|\n",
            "|22110|    Johannes Schraps|politician|23.251635225140568|\n",
            "| 4886|     Aegean Airlines|   company|22.849757353036683|\n",
            "|21767|          South Park|    tvshow|22.675406385751934|\n",
            "|22338|Switzerland | Sch...|   company| 22.05897374604086|\n",
            "|21740|Fort Knox Soldier...|government|21.882670018179656|\n",
            "|21803|      Maxime Bernier|politician|21.785334081717515|\n",
            "|19432|National Science ...|government| 21.73600923349915|\n",
            "|21907|   Dr. Karamba Diaby|politician|21.374762071189554|\n",
            "|21922|         Aécio Neves|politician|21.315443542477002|\n",
            "|21254|US National Weath...|government|20.866481989512774|\n",
            "|22252|U.S. Army School ...|government| 20.79456733652742|\n",
            "|21338|               Sénat|government| 20.73747752736905|\n",
            "|16895|           U.S. Army|government|20.611043303459116|\n",
            "|20892|West Point - The ...|government|20.077354982372942|\n",
            "|22425|               Yenda|   company|18.922959647376498|\n",
            "|20188|            Rapipago|   company|  18.8112252610865|\n",
            "|21489|Good Morning America|    tvshow|18.757871622231992|\n",
            "|21860|          Lisa Raitt|politician|18.327643761417622|\n",
            "|22207|             Digicel|   company|17.576356852346507|\n",
            "|21758|     Archivo General|government| 17.18073732819039|\n",
            "|21224|La politique étra...|government|17.119378450619077|\n",
            "|21339| Kancelaria Premiera|government| 17.07441567561407|\n",
            "|19367|           Microsoft|   company|17.073392208853896|\n",
            "|21681|         Son of Zorn|    tvshow| 16.79794283400071|\n",
            "|21838|U.S. Army Corps o...|government| 16.29061207167946|\n",
            "+-----+--------------------+----------+------------------+\n",
            "\n"
          ]
        }
      ],
      "source": [
        "graph_with_pagerank_vertices_sorted_top_1000_best_50.show(50)"
      ]
    },
    {
      "cell_type": "code",
      "execution_count": 25,
      "metadata": {
        "colab": {
          "base_uri": "https://localhost:8080/"
        },
        "id": "5X_SwHtYj2FB",
        "outputId": "8c882e4a-e90e-421c-a1bb-9cae9875fb6d"
      },
      "outputs": [
        {
          "name": "stdout",
          "output_type": "stream",
          "text": [
            "+-----+--------------------+----------+------------------+\n",
            "|   id|           page_name| page_type|          pagerank|\n",
            "+-----+--------------------+----------+------------------+\n",
            "|17540|Ambassade de Fran...|government| 3.168778873862202|\n",
            "|17762|Kedutaan Besar Re...|government|3.1722256647282254|\n",
            "|19645|2nd Armored Briga...|government|3.1746406920825314|\n",
            "|19300|  El Mundo Del Dulce|   company|3.1770604040546675|\n",
            "|20093|NSW SES City of S...|government|3.1775455863610356|\n",
            "|14368|Senator Bridget M...|politician| 3.179531453284427|\n",
            "|20164|Teotonio Vilela F...|politician|3.1819014073035214|\n",
            "|15594|Governo do Estado...|government|  3.18636297532063|\n",
            "|20843|Starbucks Česká r...|   company|3.1902243582231713|\n",
            "| 3533|Canada and the world|government|3.1909143069774255|\n",
            "|18012|   Jean-Marc Ayrault|politician| 3.193528520835899|\n",
            "|13627| Microsoft Developer|   company|3.1994451727534376|\n",
            "|22259|American Express ...|   company| 3.200137162770828|\n",
            "|22453|  Maria Elena Boschi|politician|3.2034264363678835|\n",
            "|20470|Transport and Inf...|government|3.2099362678614938|\n",
            "| 9921|           Microsoft|   company| 3.213868266194092|\n",
            "|20126|San Pellegrino Fr...|   company|3.2168957277746473|\n",
            "|19144|Embassy of the Ne...|government| 3.220910678006349|\n",
            "|21780|City of Beverly H...|government| 3.221410654257202|\n",
            "|19264|            Survivor|    tvshow|3.2219552981509088|\n",
            "|21328|   Peace Corps Ghana|government| 3.226157998125291|\n",
            "|16270|        M&M'S U.S.A.|   company| 3.228044429762579|\n",
            "|21683|       Visit The USA|   company|3.2294384317287443|\n",
            "|18827|Ambasada României...|government| 3.231176316287524|\n",
            "|21676|T.C. Cumhurbaşkan...|government|  3.23123751081239|\n",
            "|19476| U.S. Embassy Moscow|government| 3.235341373637272|\n",
            "|21885|           Nine West|   company|3.2387394031952494|\n",
            "|19691|           NYC Water|government| 3.238843248516501|\n",
            "|18170|Ministério das Re...|government|3.2421769800320095|\n",
            "|18040|             Groupon|   company| 3.246362752367286|\n",
            "|20879|   Israel in Houston|government| 3.246392197415703|\n",
            "|17694|U.S. Fish and Wil...|government|3.2471666998772206|\n",
            "|20801|Embassy of Finlan...|government| 3.248673598819901|\n",
            "|21418|              Lebara|   company| 3.250640597525771|\n",
            "|19205|I Marine Expediti...|government|3.2522520091240334|\n",
            "|21918|   Israel in Myanmar|government|3.2528049069425022|\n",
            "|19816|Embassy of Finlan...|government|3.2580243834944653|\n",
            "|20224|Ministry of Cultu...|government| 3.258176673143983|\n",
            "|15553|Nelson Marchezan ...|politician|3.2613842437994913|\n",
            "|17340|       Yasmin Fahimi|politician|3.2618327186611342|\n",
            "|19053|      Phil McColeman|politician| 3.263459467424814|\n",
            "|12573|          Amazon.com|   company| 3.263901593649583|\n",
            "|22340|Nærings- og fiske...|government|3.2644227075211636|\n",
            "|19841|US National Weath...|government| 3.266633734887103|\n",
            "|17922|Consulatul Genera...|government| 3.266691186577804|\n",
            "|18338|            Eva Högl|politician| 3.270066116669766|\n",
            "|17639|     Clare O'Neil MP|politician| 3.271464071283632|\n",
            "|20827|NATO Strategic Co...|government| 3.271996327661399|\n",
            "|21661|         KLM Ukraine|   company|3.2748341211895666|\n",
            "|20047|Defense Privacy a...|government| 3.277298131204219|\n",
            "+-----+--------------------+----------+------------------+\n",
            "\n"
          ]
        }
      ],
      "source": [
        "graph_with_pagerank_vertices_sorted_top_1000_worst_50.show(50)"
      ]
    },
    {
      "cell_type": "markdown",
      "metadata": {
        "id": "eQXnVKiJ-vdr"
      },
      "source": [
        "Który typ strony był dominujący w każdej z tych kategorii?\n",
        "\n",
        "Były to strony typu **rządowego**."
      ]
    },
    {
      "cell_type": "markdown",
      "metadata": {
        "id": "I9FrBirG_BiI"
      },
      "source": [
        "Narysujemy teraz wykres zależności PageRank od liczby krawędzi dla wierzchołków."
      ]
    },
    {
      "cell_type": "code",
      "execution_count": 26,
      "metadata": {
        "id": "iOu14QwE_LWM"
      },
      "outputs": [],
      "source": [
        "df_1 = graph_with_pagerank.edges.groupBy(\"src\").agg({\"src\" : \"count\"}).toPandas()\n",
        "df_1_reverse = graph_with_pagerank.edges.groupBy(\"dst\").agg({\"dst\" : \"count\"}).toPandas()"
      ]
    },
    {
      "cell_type": "code",
      "execution_count": 27,
      "metadata": {
        "id": "_X1ssa3nCVsE"
      },
      "outputs": [],
      "source": [
        "df_2 = graph_with_pagerank_vertices_sorted_top_1000.toPandas()"
      ]
    },
    {
      "cell_type": "code",
      "execution_count": 28,
      "metadata": {
        "colab": {
          "base_uri": "https://localhost:8080/",
          "height": 296
        },
        "id": "11glsl_cBRLC",
        "outputId": "87ea958d-e1e6-4ac2-e446-31eb35e12146"
      },
      "outputs": [
        {
          "data": {
            "text/plain": [
              "<matplotlib.axes._subplots.AxesSubplot at 0x7f0c7ac70bb0>"
            ]
          },
          "execution_count": 28,
          "metadata": {},
          "output_type": "execute_result"
        },
        {
          "data": {
            "image/png": "[encoded data removed]",
            "text/plain": [
              "<Figure size 432x288 with 1 Axes>"
            ]
          },
          "metadata": {
            "needs_background": "light"
          },
          "output_type": "display_data"
        }
      ],
      "source": [
        "df = df_2.merge(df_1_reverse, how='inner', left_on='id', right_on='dst')\n",
        "df.rename(columns = {'count(dst)' : 'Liczba krawędzi'}, inplace=True)\n",
        "df.plot.scatter(x='Liczba krawędzi', y='pagerank')"
      ]
    },
    {
      "cell_type": "markdown",
      "metadata": {
        "id": "T3PdN7MyzM1H"
      },
      "source": [
        "## **Zadanie nr 4**\n",
        "\n",
        "Korzystając z Pregel API zaimplementować następujący algorytm. W pierwszym kroku wybrana strona publikuje post fake news. W kolejnym kroku ten post publikowany jest przez 1/4 losowo wybranych kontaktów tej strony. W dalszych krokach, dla każdej strony, która opublikowała już ten post, losowo wybrane 1/4 jej kontaktów publikuje go u siebie. Pokazać jak zmienia się liczba stron które opublikowały post w zależności od liczby kroków."
      ]
    },
    {
      "cell_type": "code",
      "execution_count": 150,
      "metadata": {
        "id": "iLtE9JEazMHM"
      },
      "outputs": [],
      "source": [
        "from pyspark.sql.functions import coalesce, col, lit, sum, when, rand, min\n",
        "import random\n",
        "\n",
        "def get_publishers_number(graph: gf.GraphFrame, max_iter: int) -> pd.DataFrame:\n",
        "  \n",
        "  f = lambda x: 1 if x == True else 0\n",
        "  g = lambda x: 1 if x>0 else 0\n",
        "\n",
        "  fake_news = Pregel(graph)\n",
        "  fake_news.setMaxIter(max_iter)\n",
        "  fake_news.withVertexColumn(\"value\", lit(1.0), fake_news.msg() * lit(f(0.25 > random.random())))\n",
        "  fake_news.sendMsgToDst(fake_news.src(\"value\"))\n",
        "  fake_news.aggMsgs(sum(fake_news.msg()))\n",
        "\n",
        "  result = fake_news.run()\n",
        "  result = result.toPandas()\n",
        "\n",
        "  print('Iterations are done!')\n",
        "\n",
        "  return np.sum(result['value'].apply(g))\n"
      ]
    },
    {
      "cell_type": "code",
      "execution_count": 152,
      "metadata": {
        "colab": {
          "base_uri": "https://localhost:8080/"
        },
        "id": "PmGgDBqMEm11",
        "outputId": "10fdc969-26ef-43d7-841b-235967e35226"
      },
      "outputs": [
        {
          "name": "stdout",
          "output_type": "stream",
          "text": [
            "Iterations are done!\n",
            "Iterations are done!\n",
            "Iterations are done!\n",
            "Iterations are done!\n",
            "Iterations are done!\n",
            "Iterations are done!\n",
            "Iterations are done!\n",
            "Iterations are done!\n",
            "Iterations are done!\n",
            "Iterations are done!\n",
            "Iterations are done!\n",
            "Iterations are done!\n",
            "Iterations are done!\n",
            "Iterations are done!\n",
            "Iterations are done!\n"
          ]
        }
      ],
      "source": [
        "publisher_numbers = [get_publishers_number(graph, i) for i in range(1, 16)]"
      ]
    },
    {
      "cell_type": "markdown",
      "metadata": {
        "id": "m8POp7pAGdln"
      },
      "source": [
        "Zapisujemy uzyskane wartości do pliku .txt."
      ]
    },
    {
      "cell_type": "code",
      "execution_count": 153,
      "metadata": {
        "id": "-H9H_8dXFMkb"
      },
      "outputs": [],
      "source": [
        "with open(\"publisher_numbers.txt\", \"w\") as output:\n",
        "    output.write(str(publisher_numbers))"
      ]
    },
    {
      "cell_type": "code",
      "execution_count": 154,
      "metadata": {
        "colab": {
          "base_uri": "https://localhost:8080/"
        },
        "id": "w7Rj5GmWyJvC",
        "outputId": "01dec0ec-ba06-4d9b-ed27-718c6c77770e"
      },
      "outputs": [
        {
          "data": {
            "text/plain": [
              "[0, 0, 0, 15163, 14585, 0, 0, 0, 0, 0, 0, 0, 0, 0, 0]"
            ]
          },
          "execution_count": 154,
          "metadata": {},
          "output_type": "execute_result"
        }
      ],
      "source": [
        "publisher_numbers"
      ]
    },
    {
      "cell_type": "code",
      "execution_count": 156,
      "metadata": {
        "colab": {
          "base_uri": "https://localhost:8080/"
        },
        "id": "pjsdKB6L9YFS",
        "outputId": "be3f0285-027b-4932-8bab-fa62961809b7"
      },
      "outputs": [
        {
          "data": {
            "text/plain": [
              "[1, 2, 3, 4, 5, 6, 7, 8, 9, 10, 11, 12, 13, 14, 15]"
            ]
          },
          "execution_count": 156,
          "metadata": {},
          "output_type": "execute_result"
        }
      ],
      "source": [
        "steps = [_ for _ in range(1, 16)]\n",
        "steps"
      ]
    },
    {
      "cell_type": "code",
      "execution_count": 164,
      "metadata": {
        "colab": {
          "base_uri": "https://localhost:8080/",
          "height": 279
        },
        "id": "3wvd0AwX9hLx",
        "outputId": "9959e5a7-89d7-4ba7-e12d-dbe8dcf3ef63"
      },
      "outputs": [
        {
          "data": {
            "image/png": "[encoded data removed]",
            "text/plain": [
              "<Figure size 432x288 with 1 Axes>"
            ]
          },
          "metadata": {
            "needs_background": "light"
          },
          "output_type": "display_data"
        }
      ],
      "source": [
        "plt.scatter(steps, publisher_numbers)\n",
        "plt.xlabel('Kroki')\n",
        "plt.ylabel('Liczba stron publikujących dany post')\n",
        "plt.grid()\n",
        "plt.show()"
      ]
    },
    {
      "cell_type": "markdown",
      "metadata": {
        "id": "HJ6bW_yLEZw-"
      },
      "source": [
        "## **Zadanie nr 5**\n",
        "\n",
        "Narysować wykres rozkładu stopnia wierzchołków w grafie w skali logarytmicznej. Można skorzystać z funkcji obliczającej histogram dla RDD. Czy sieć jest bezskalowa (scale-free)? https://barabasi.com/f/623.pdf"
      ]
    },
    {
      "cell_type": "code",
      "execution_count": 50,
      "metadata": {
        "id": "tXMTtmi6Ee3w"
      },
      "outputs": [],
      "source": [
        "degrees = sorted(list(graph.degrees.toPandas()['degree']), reverse=False)"
      ]
    },
    {
      "cell_type": "code",
      "execution_count": 51,
      "metadata": {
        "id": "zBxaDc9_FjJI"
      },
      "outputs": [],
      "source": [
        "rdd = sc.parallelize(degrees)"
      ]
    },
    {
      "cell_type": "code",
      "execution_count": 75,
      "metadata": {
        "id": "jExUrNDplkCt"
      },
      "outputs": [],
      "source": [
        "hist = rdd.histogram(max(degrees))\n",
        "bins, values = hist"
      ]
    },
    {
      "cell_type": "code",
      "execution_count": 76,
      "metadata": {
        "colab": {
          "base_uri": "https://localhost:8080/",
          "height": 316
        },
        "id": "J_C2Ic5kFpP0",
        "outputId": "7519299f-b8b4-46f6-ca01-0416e14b6b06"
      },
      "outputs": [
        {
          "name": "stderr",
          "output_type": "stream",
          "text": [
            "<ipython-input-76-d47209ca56dc>:1: RuntimeWarning: divide by zero encountered in log\n",
            "  plt.scatter(np.log(bins[:-1]), np.log(values))\n"
          ]
        },
        {
          "data": {
            "image/png": "[encoded data removed]",
            "text/plain": [
              "<Figure size 432x288 with 1 Axes>"
            ]
          },
          "metadata": {
            "needs_background": "light"
          },
          "output_type": "display_data"
        }
      ],
      "source": [
        "plt.scatter(np.log(bins[:-1]), np.log(values))\n",
        "plt.grid()\n",
        "plt.title('Degrees histogram')\n",
        "plt.show()"
      ]
    },
    {
      "cell_type": "markdown",
      "metadata": {
        "id": "9oqMH_ozqo8y"
      },
      "source": [
        "W przybliżeniu sieć jest bezskalowa, ponieważ wykres wygląda w \"przybliżeniu\" na liniowy."
      ]
    }
  ],
  "metadata": {
    "colab": {
      "provenance": []
    },
    "kernelspec": {
      "display_name": "Python 3",
      "name": "python3"
    },
    "language_info": {
      "name": "python"
    }
  },
  "nbformat": 4,
  "nbformat_minor": 0
}
